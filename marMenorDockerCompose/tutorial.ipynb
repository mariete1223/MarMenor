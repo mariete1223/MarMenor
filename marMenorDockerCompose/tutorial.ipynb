{
 "cells": [
  {
   "cell_type": "markdown",
   "metadata": {},
   "source": [
    "# Ejemplos de uso de el entorno conformado por Orion, Node Express y MongoDB"
   ]
  },
  {
   "cell_type": "markdown",
   "metadata": {},
   "source": [
    "Se va a mostrar algunos ejemplos de las distintas consultas disponibles en el entorno desarrollado. Estos ejemplos se realizarán haciendo uso de la herramienta CURL, para poder realizar peticiones HTTP."
   ]
  },
  {
   "cell_type": "markdown",
   "metadata": {},
   "source": [
    "## ORION\n"
   ]
  },
  {
   "cell_type": "markdown",
   "metadata": {},
   "source": [
    "En este componente encontramos los datos actuales de las distintas entidades, siguiendo el formato NGSI-LD."
   ]
  },
  {
   "cell_type": "markdown",
   "metadata": {},
   "source": [
    "En cuanto a Orion, este componente nos ofrece una gran diversidad de operaciones, consultas, filtrado etcétera. A continuación se mostrarán algunas de las operaciones empleadas para la creación del entorno basado en el Mar Menor para poder crear, modificar, recuperar y eliminar entidades, asi como, la posibilidad de realizar consultas aplicando distintos filtros, creación, modificación y eliminación de subscripciones que nos permiten monitorizar distintas entidades y atributos y poder notificar eventos relevantes, etcétera."
   ]
  },
  {
   "cell_type": "markdown",
   "metadata": {},
   "source": [
    "### CRUD Entidades"
   ]
  },
  {
   "cell_type": "markdown",
   "metadata": {},
   "source": [
    "Encontramos 4 operaciones basicas:"
   ]
  },
  {
   "cell_type": "markdown",
   "metadata": {},
   "source": [
    "#### Creación"
   ]
  },
  {
   "cell_type": "markdown",
   "metadata": {},
   "source": [
    "En este apartado mostraremos la creción de un par de entidades que encontramos en el entorno del Mar Menor, Rambla(Ravine) y "
   ]
  },
  {
   "cell_type": "markdown",
   "metadata": {},
   "source": [
    "##### Creación de una Rambla"
   ]
  },
  {
   "cell_type": "code",
   "execution_count": null,
   "metadata": {},
   "outputs": [],
   "source": [
    "%%bash\n",
    "\n",
    "curl -iX POST 'http://localhost:1026/ngsi-ld/v1/entities/' \\\n",
    "-H 'Content-Type: application/ld+json' \\\n",
    "--data-raw '{\n",
    "    \"id\": \"urn:ngsi-ld:Ravine:floor001\",\n",
    "    \"type\": \"Ravine\",\n",
    "    \"dateLastValueReported\": {\n",
    "        \"type\": \"Property\",\n",
    "        \"value\": \"2018-09-12T12:00:00Z\"\n",
    "    },\n",
    "    \"description\": {\n",
    "        \"type\": \"Property\",\n",
    "        \"value\": \"Río Guadalentín paretón de Totana\"\n",
    "    },\n",
    "    \"address\": {\n",
    "        \"type\": \"Property\",\n",
    "        \"value\": {\n",
    "            \"addressCountry\": \"ES\",\n",
    "            \"addressRegion\": \"Murcia\",\n",
    "            \"addressLocality\": \"Totana\",\n",
    "            \"postalCode\": \"30850\"\n",
    "        },\n",
    "        \"verified\": {\n",
    "            \"type\": \"Property\",\n",
    "            \"value\": true\n",
    "        }\n",
    "    },\n",
    "    \"source\": {\n",
    "        \"type\": \"Property\",\n",
    "        \"value\": \"https://saihweb.chsegura.es/apps/iVisor/\"\n",
    "    },\n",
    "    \"location\": {\n",
    "        \"type\": \"GeoProperty\",\n",
    "        \"value\": {\n",
    "            \"type\": \"Point\",\n",
    "            \"coordinates\": [\n",
    "                37.721387,\n",
    "                -1.495578\n",
    "            ]\n",
    "        }\n",
    "    },\n",
    "    \"temperature\": {\n",
    "        \"type\": \"Property\",\n",
    "        \"value\": 20,\n",
    "        \"observedAt\": \"2023-12-06T14:57:27.460Z\",\n",
    "        \"unitCode\": \"CEL\",\n",
    "        \"providedBy\": {\n",
    "            \"type\": \"Relationship\",\n",
    "            \"object\": \"urn:ngsi-ld:TemperatureSensor:001\"\n",
    "        }\n",
    "    },\n",
    "    \"precipitation\": {\n",
    "        \"type\": \"Property\",\n",
    "        \"value\": 20,\n",
    "        \"observedAt\": \"2023-12-06T14:57:27.460Z\",\n",
    "        \"unitCode\": \"CEL\",\n",
    "        \"providedBy\": {\n",
    "            \"type\": \"Relationship\",\n",
    "            \"object\": \"urn:ngsi-ld:TemperatureSensor:001\"\n",
    "        }\n",
    "    },\n",
    "    \"name\": {\n",
    "        \"type\": \"Property\",\n",
    "        \"value\": \"Paretón Totana\"\n",
    "    },\n",
    "    \"@context\": \"https://raw.githubusercontent.com/mariete1223/MarMenor/main/data_models_description/datamodels.context-ngsi.jsonld\"\n",
    "}'"
   ]
  },
  {
   "cell_type": "markdown",
   "metadata": {},
   "source": [
    "##### Creación de una Boya"
   ]
  },
  {
   "cell_type": "code",
   "execution_count": null,
   "metadata": {},
   "outputs": [],
   "source": [
    "%%bash\n",
    "\n",
    "curl -iX POST 'http://localhost:1026/ngsi-ld/v1/entities/' \\\n",
    "-H 'Content-Type: application/ld+json' \\\n",
    "--data-raw '{\n",
    "    \"id\": \"urn:ngsi-ld:Buoy:sea001\",\n",
    "    \"identifier\": {\n",
    "        \"type\": \"Property\",\n",
    "        \"value\": \"urn:ngsi-ld:Buoy:sea001\"\n",
    "    },\n",
    "    \"type\": \"Buoy\",\n",
    "    \"category\": {\n",
    "        \"type\": \"Property\",\n",
    "        \"value\": [\"farm\"]\n",
    "    },\n",
    "    \"dateLastValueReported\": {\n",
    "        \"type\": \"Property\",\n",
    "        \"value\": \"2018-09-12T12:00:00Z\"\n",
    "    },\n",
    "    \"description\": {\n",
    "        \"type\": \"Property\",\n",
    "        \"value\": \"Boya del Mar Menor zona de Lo Pagan\"\n",
    "    },\n",
    "    \"address\": {\n",
    "        \"type\": \"Property\",\n",
    "        \"value\": {\n",
    "            \"addressCountry\": \"ES\",\n",
    "            \"addressRegion\": \"Murcia\",\n",
    "            \"addressLocality\": \"Murcia\",\n",
    "            \"postalCode\": \"30009\"\n",
    "        },\n",
    "        \"verified\": {\n",
    "            \"type\": \"Property\",\n",
    "            \"value\": true\n",
    "        }\n",
    "    },\n",
    "    \"source\":\n",
    "    {\n",
    "        \"type\": \"Property\",\n",
    "        \"value\": \"https://idearm.imida.es/cgi/siomctdmarmenor/\"\n",
    "    },\n",
    "    \"location\": {\n",
    "        \"type\": \"GeoProperty\",\n",
    "        \"value\": {\n",
    "             \"type\": \"Point\",\n",
    "             \"coordinates\": [37.81, -0.78]\n",
    "        }\n",
    "    },\n",
    "    \"name\": {\n",
    "        \"type\": \"Property\",\n",
    "        \"value\": \"CTD-E1\"\n",
    "    },\n",
    "    \"@context\": \"https://raw.githubusercontent.com/mariete1223/MarMenor/main/data_models_description/datamodels.context-ngsi.jsonld\"\n",
    "}'"
   ]
  },
  {
   "cell_type": "markdown",
   "metadata": {},
   "source": [
    "#### Modificación"
   ]
  },
  {
   "cell_type": "markdown",
   "metadata": {},
   "source": [
    "En este apartado mostraremos un par de operaciones basicas, que son las que han sido empleadas para modificar los datos a la hora de incluir los valores historicos."
   ]
  },
  {
   "cell_type": "markdown",
   "metadata": {},
   "source": [
    "##### Modificar el valor del campo de una entidad"
   ]
  },
  {
   "cell_type": "markdown",
   "metadata": {},
   "source": [
    "En este caso indicamos que queremos que se modifique el valor del atributo *temperature* de la entidad **TemperatureSenor** a 100, pudiendo añadirle los metadatos desados tambien, en este caso se indica que la fecha en la que se recogío ese dato fue en *2023-11-12T11:09:27.460Z*."
   ]
  },
  {
   "cell_type": "code",
   "execution_count": null,
   "metadata": {},
   "outputs": [],
   "source": [
    "%%bash\n",
    "\n",
    "curl -iX PATCH 'http://localhost:1026/ngsi-ld/v1/entities/urn:ngsi-ld:TemperatureSensor:000/attrs/temperature' \\\n",
    "-H 'Content-Type: application/json' \\\n",
    "-H 'Link: <https://raw.githubusercontent.com/mariete1223/MarMenor/main/data_models_description/datamodels.context-ngsi.jsonld>; rel=\"http://www.w3.org/ns/json-ld#context\"; type=\"application/ld+json\"' \\\n",
    "--data-raw '{\n",
    "    \"value\": 100,\n",
    "    \"observedAt\": \"2023-11-12T11:09:27.460Z\"\n",
    "}'"
   ]
  },
  {
   "cell_type": "markdown",
   "metadata": {},
   "source": [
    "##### Modificar multiples campos de una entidad simultaneamente"
   ]
  },
  {
   "cell_type": "markdown",
   "metadata": {},
   "source": [
    "En este caso modificamos dos atributos, temperatura y el objecto que controla el sensor"
   ]
  },
  {
   "cell_type": "code",
   "execution_count": null,
   "metadata": {},
   "outputs": [],
   "source": [
    "%%bash\n",
    "\n",
    "curl -iX PATCH 'http://localhost:1026/ngsi-ld/v1/entities/urn:ngsi-ld:TemperatureSensor:001/attrs' \\\n",
    "-H 'Content-Type: application/json' \\\n",
    "-H 'Link: <https://raw.githubusercontent.com/mariete1223/MarMenor/main/data_models_description/datamodels.context-ngsi.jsonld>; rel=\"http://www.w3.org/ns/json-ld#context\"; type=\"application/ld+json\"' \\\n",
    "--data-raw '{\n",
    "      \"temperature\": {\n",
    "            \"value\": 100,\n",
    "            \"observedAt\": \"2023-11-12T11:09:27.460Z\"\n",
    "       },\n",
    "      \"controlledAsset\": {\n",
    "            \"type\": \"Relationship\",\n",
    "            \"object\": \"urn:ngsi-ld:Ravine:001\"\n",
    "      }\n",
    "}'"
   ]
  },
  {
   "cell_type": "markdown",
   "metadata": {},
   "source": [
    "#### Recuperar"
   ]
  },
  {
   "cell_type": "markdown",
   "metadata": {},
   "source": [
    "En este apartado se mostrará la forma de recuperar las distintas entidades que encontramos en Orion, tanto una unica entidad como todas ellas, atributos concretos, etcétera."
   ]
  },
  {
   "cell_type": "markdown",
   "metadata": {},
   "source": [
    "##### Recuperar todas las boyas"
   ]
  },
  {
   "cell_type": "code",
   "execution_count": null,
   "metadata": {},
   "outputs": [],
   "source": [
    "%%bash\n",
    "curl -G -X GET \\\n",
    "  'http://localhost:1026/ngsi-ld/v1/entities' \\\n",
    "  -H 'Accept: application/ld+json' \\\n",
    "  -d 'type=https://raw.githubusercontent.com/mariete1223/MarMenor/main/Buoy/buoy.yaml%23/Buoy'"
   ]
  },
  {
   "cell_type": "markdown",
   "metadata": {},
   "source": [
    "##### Recuperar todas las ramblas"
   ]
  },
  {
   "cell_type": "code",
   "execution_count": null,
   "metadata": {},
   "outputs": [],
   "source": [
    "%%bash\n",
    "curl -G -X GET   'http://localhost:1026/ngsi-ld/v1/entities'   \\\n",
    " -H 'Accept: application/ld+json'   \\\n",
    " -d 'type=https://raw.githubusercontent.com/mariete1223/MarMenor/main/Ravine/ravine.yaml%23/Ravine'"
   ]
  },
  {
   "cell_type": "markdown",
   "metadata": {},
   "source": [
    "##### Recuperar todas los piezometros"
   ]
  },
  {
   "cell_type": "code",
   "execution_count": null,
   "metadata": {},
   "outputs": [],
   "source": [
    "%%bash\n",
    "curl -G -X GET   'http://localhost:1026/ngsi-ld/v1/entities'   \\\n",
    " -H 'Accept: application/ld+json'   \\\n",
    " -d 'type=https://raw.githubusercontent.com/mariete1223/MarMenor/main/PiezometricPoint/piezometricPoint.yaml%23/PiezometricPoint'"
   ]
  },
  {
   "cell_type": "markdown",
   "metadata": {},
   "source": [
    "##### Recuperar una entidad por su identificador"
   ]
  },
  {
   "cell_type": "code",
   "execution_count": null,
   "metadata": {},
   "outputs": [],
   "source": [
    "%%bash\n",
    "curl -G -iX GET 'http://localhost:1026/ngsi-ld/v1/entities/urn:ngsi-ld:Ravine:012' -H 'Accept: application/ld+json'"
   ]
  },
  {
   "cell_type": "markdown",
   "metadata": {},
   "source": [
    "##### Recuperar un atributo de una entidad (temperatura en este caso)"
   ]
  },
  {
   "cell_type": "code",
   "execution_count": null,
   "metadata": {},
   "outputs": [],
   "source": [
    "%%bash\n",
    "curl -G -iX GET 'http://localhost:1026/ngsi-ld/v1/entities/urn:ngsi-ld:Ravine:012' \\\n",
    "-H 'Link: <https://raw.githubusercontent.com/mariete1223/MarMenor/main/data_models_description/datamodels.context-ngsi.jsonld>; rel=\"http://www.w3.org/ns/json-ld#context\"; type=\"application/ld+json\"' \\\n",
    "-d 'attrs=temperature'"
   ]
  },
  {
   "cell_type": "markdown",
   "metadata": {},
   "source": [
    "##### Recuperar varios atributos de una entidad "
   ]
  },
  {
   "cell_type": "code",
   "execution_count": null,
   "metadata": {},
   "outputs": [],
   "source": [
    "%%bash\n",
    "curl -G -iX GET 'http://localhost:1026/ngsi-ld/v1/entities/urn:ngsi-ld:Ravine:012' \\\n",
    "-H 'Link: <https://raw.githubusercontent.com/mariete1223/MarMenor/main/data_models_description/datamodels.context-ngsi.jsonld>; rel=\"http://www.w3.org/ns/json-ld#context\"; type=\"application/ld+json\"' \\\n",
    "-d 'attrs=precipitation,temperature'"
   ]
  },
  {
   "cell_type": "markdown",
   "metadata": {},
   "source": [
    "##### Realizar busquedas a traves de coordenadas geográficas"
   ]
  },
  {
   "cell_type": "code",
   "execution_count": null,
   "metadata": {},
   "outputs": [],
   "source": [
    "%%bash\n",
    "curl -G -X GET \\\n",
    "  'http://localhost:1026/ngsi-ld/v1/entities' \\\n",
    "  -H 'Link: <https://raw.githubusercontent.com/mariete1223/MarMenor/main/data_models_description/datamodels.context-ngsi.jsonld>; rel=\"http://www.w3.org/ns/json-ld#context\"; type=\"application/ld+json\"' \\\n",
    "  -H 'Accept: application/json' \\\n",
    "  -d 'geometry=Point' \\\n",
    "  -d 'coordinates=%5B37.7544,-0.8586%5D' \\\n",
    "  -d 'georel=near%3BmaxDistance==5000' \\\n",
    "  -d 'options=keyValues'"
   ]
  },
  {
   "cell_type": "markdown",
   "metadata": {},
   "source": [
    "##### Realizar filtro por algun campo"
   ]
  },
  {
   "cell_type": "code",
   "execution_count": null,
   "metadata": {},
   "outputs": [],
   "source": [
    "%%bash\n",
    "curl -G -iX GET 'http://localhost:1026/ngsi-ld/v1/entities/' \\\n",
    "-H 'Link: <https://raw.githubusercontent.com/mariete1223/MarMenor/main/data_models_description/datamodels.context-ngsi.jsonld>; rel=\"http://www.w3.org/ns/json-ld#context\"; type=\"application/ld+json\"' \\\n",
    "-H 'Accept: application/json' \\\n",
    "-d 'id=urn:ngsi-ld:TemperatureSensor:001,urn:ngsi-ld:TemperatureSensor:002' "
   ]
  },
  {
   "cell_type": "markdown",
   "metadata": {},
   "source": [
    "##### Formas de recuperar los datos"
   ]
  },
  {
   "cell_type": "markdown",
   "metadata": {},
   "source": [
    "Hay varias formas de recuperar los datos:\n",
    "\n",
    "* Verbose: nos proporciona todos los metadatos a parte de los valores (por defecto)\n",
    "* KeyValue: nos proporciona solo clave valore, suprimiendo los metadatos"
   ]
  },
  {
   "cell_type": "markdown",
   "metadata": {},
   "source": [
    "Como Verbose es por defecto, mostraremos como se haría con **KeyValue**:"
   ]
  },
  {
   "cell_type": "code",
   "execution_count": null,
   "metadata": {},
   "outputs": [],
   "source": [
    "%%bash\n",
    "curl -G -iX GET 'http://localhost:1026/ngsi-ld/v1/entities/urn:ngsi-ld:Ravine:012' \\\n",
    "    -H 'Accept: application/ld+json' \\\n",
    "    -H 'Link: <https://raw.githubusercontent.com/mariete1223/MarMenor/main/data_models_description/datamodels.context-ngsi.jsonld>; rel=\"http://www.w3.org/ns/json-ld#context\"; type=\"application/ld+json\"' \\\n",
    "    -d 'options=keyValues'"
   ]
  },
  {
   "cell_type": "markdown",
   "metadata": {},
   "source": [
    "#### Eliminar"
   ]
  },
  {
   "cell_type": "markdown",
   "metadata": {},
   "source": [
    "En este apratado mostraremos un par de ejemplos para eliminar entidades existentes"
   ]
  },
  {
   "cell_type": "markdown",
   "metadata": {},
   "source": [
    "##### Eliminar un sensor"
   ]
  },
  {
   "cell_type": "code",
   "execution_count": null,
   "metadata": {},
   "outputs": [],
   "source": [
    "%%bash\n",
    "curl -iX DELETE 'http://localhost:1026/ngsi-ld/v1/entities/urn:ngsi-ld:TemperatureSensor:004'"
   ]
  },
  {
   "cell_type": "markdown",
   "metadata": {},
   "source": [
    "##### Eliminar una rambla"
   ]
  },
  {
   "cell_type": "code",
   "execution_count": null,
   "metadata": {},
   "outputs": [],
   "source": [
    "%%bash\n",
    "curl -iX DELETE 'http://localhost:1026/ngsi-ld/v1/entities/urn:ngsi-ld:Ravine:004'"
   ]
  },
  {
   "cell_type": "markdown",
   "metadata": {},
   "source": [
    "### CRUD Subscripciones"
   ]
  },
  {
   "cell_type": "markdown",
   "metadata": {},
   "source": [
    "Las subscripciones son un mecanismo de gran utilidad que nos permite enviar notificaciones a un endpoint definido por nosotros para indicar la ocurrencia de algun evento que requiere supervisión o una acción como consecuencia. "
   ]
  },
  {
   "cell_type": "markdown",
   "metadata": {},
   "source": [
    "#### Creación"
   ]
  },
  {
   "cell_type": "markdown",
   "metadata": {},
   "source": [
    "Vamos a mostrar algún ejemplo de creación de subscripciones indicando su gran versatilidad"
   ]
  },
  {
   "cell_type": "markdown",
   "metadata": {},
   "source": [
    "##### Creación de una subscripción para monitorizar cambios de temperatura"
   ]
  },
  {
   "cell_type": "markdown",
   "metadata": {},
   "source": [
    "En este caso hemos creado una subscripcion con lo siguiente:\n",
    "\n",
    "* El atributo a observar (*watchedAttributes*) es la temperatura\n",
    "* Se esta monitorizando la entidades de tipo *Ravine*\n",
    "* Para enviar la notificación debe haber cambiado la temperatura a un valor entre 10 y 100\n",
    "* Los datos de la entidad que queremos enviar son: *temperature*\n",
    "* El endpoint al que queremos notificar el evento es a *http://node-app:3000/historic* (Nuestro node express)"
   ]
  },
  {
   "cell_type": "code",
   "execution_count": null,
   "metadata": {},
   "outputs": [],
   "source": [
    "%%bash\n",
    "\n",
    "curl -L -X POST 'http://localhost:1026/ngsi-ld/v1/subscriptions/' \\\n",
    "-H 'Content-Type: application/ld+json' \\\n",
    "--data-raw '{\n",
    "  \"description\": \"Una prueba de notificacion, ante un cambio de temperatura\",\n",
    "  \"type\": \"Subscription\",\n",
    "  \"entities\": [{\"type\": \"Ravine\"}],\n",
    "  \"watchedAttributes\": [\"temperature\"],\n",
    "  \"q\": \"temperature>10;temperature<100\",\n",
    "  \"notification\": {\n",
    "    \"attributes\": [\"temperature\"],\n",
    "    \"format\": \"normalized\",\n",
    "    \"endpoint\": {\n",
    "      \"uri\": \"http://node-app:3000/historic/a\",\n",
    "      \"accept\": \"application/json\"\n",
    "    }\n",
    "  },\n",
    "   \"@context\": \"https://raw.githubusercontent.com/mariete1223/MarMenor/main/data_models_description/datamodels.context-ngsi.jsonld\"\n",
    "}'"
   ]
  },
  {
   "cell_type": "markdown",
   "metadata": {},
   "source": [
    "##### Creación de una subscripción mas restrictiva"
   ]
  },
  {
   "cell_type": "markdown",
   "metadata": {},
   "source": [
    "En este caso, estamos creando una subscripción para un Sensor en especifico, restringiendolo a traves de el filtro *q*, en el que hemos indicado que sea la entidad que concuerde con un atributo source concreto y que la propiedad que este controlando sea la temperatura.\n",
    "\n",
    "Ademas, hemos indicado que queremos enviar mas atributos que los monitorizados a nuestro endpoin."
   ]
  },
  {
   "cell_type": "code",
   "execution_count": null,
   "metadata": {},
   "outputs": [],
   "source": [
    "%%bash\n",
    "curl -L -X POST 'http://localhost:1026/ngsi-ld/v1/subscriptions/' \\\n",
    "-H 'Content-Type: application/ld+json' \\\n",
    "--data-raw '{\n",
    "    \"description\": \"Subscription to get info about urn:ngsi-ld:PiezometricPoint:000 sensor\", \n",
    "    \"type\": \"Subscription\", \"entities\": [{\"type\": \"TemperatureSensor\"}], \n",
    "    \"watchedAttributes\": [\"temperature\"], \n",
    "    \"q\": \"source==%22https://saihweb.chsegura.es/apps/iVisor/visor_variable.php?punto=06Z01E10%22;controlledProperty==%22temperature%22\",\n",
    "    \"notification\": {\n",
    "        \"attributes\": [\"temperature\", \"controlledAsset\", \"measureType\"], \n",
    "        \"format\": \"normalized\", \n",
    "        \"endpoint\": {\"uri\": \"http://node-app:3000/historic/urn:ngsi-ld:TemperatureSensor:000\", \n",
    "        \"accept\": \"application/json\"\n",
    "        }\n",
    "    }, \n",
    "    \"@context\": \"https://raw.githubusercontent.com/mariete1223/MarMenor/main/data_models_description/datamodels.context-ngsi.jsonld\"\n",
    "}'"
   ]
  },
  {
   "cell_type": "markdown",
   "metadata": {},
   "source": [
    "#### Eliminación"
   ]
  },
  {
   "cell_type": "code",
   "execution_count": null,
   "metadata": {},
   "outputs": [],
   "source": [
    "%%bash\n",
    "curl -X DELETE \\\n",
    "  --url 'http://localhost:1026/ngsi-ld/v1/subscriptions/urn:ngsi-ld:Subscription:5fd228838b9b83697b855a72'"
   ]
  },
  {
   "cell_type": "markdown",
   "metadata": {},
   "source": [
    "#### Recuperación"
   ]
  },
  {
   "cell_type": "markdown",
   "metadata": {},
   "source": [
    "##### Recuperación de todas las subscripciones"
   ]
  },
  {
   "cell_type": "code",
   "execution_count": null,
   "metadata": {},
   "outputs": [],
   "source": [
    "%%bash\n",
    "curl -X GET \\\n",
    "  --url 'http://localhost:1026/ngsi-ld/v1/subscriptions/"
   ]
  },
  {
   "cell_type": "markdown",
   "metadata": {},
   "source": [
    "##### Recuperación de una subscripcion"
   ]
  },
  {
   "cell_type": "code",
   "execution_count": null,
   "metadata": {},
   "outputs": [],
   "source": [
    "%%bash\n",
    "curl -X GET \\\n",
    "  --url 'http://localhost:1026/ngsi-ld/v1/subscriptions/urn:ngsi-ld:Subscription:5fd228838b9b83697b855a72'"
   ]
  },
  {
   "cell_type": "markdown",
   "metadata": {},
   "source": [
    "## NODE EXPRESS"
   ]
  },
  {
   "cell_type": "markdown",
   "metadata": {},
   "source": [
    "En este componente encontramos el histórico de los datos de las entidades que encontramos en el componente de ORION, en este caso se almacenan y recuperarn los datos en JSON, no en NGSI-LD."
   ]
  },
  {
   "cell_type": "markdown",
   "metadata": {},
   "source": [
    "Nos ofrece las siguientes funcionalidades:"
   ]
  },
  {
   "cell_type": "markdown",
   "metadata": {},
   "source": [
    "### Recuperación de datos históricos de una entidad"
   ]
  },
  {
   "cell_type": "markdown",
   "metadata": {},
   "source": [
    "Indicando el ID de una de las entidades de nuestro ORION seremos capaces de obtener los datos, pudiendo filtrar y limitar la cantidad de datos requeridos."
   ]
  },
  {
   "cell_type": "markdown",
   "metadata": {},
   "source": [
    "#### Recuperación de todos los datos históricos"
   ]
  },
  {
   "cell_type": "code",
   "execution_count": null,
   "metadata": {},
   "outputs": [],
   "source": [
    "%%bash \n",
    "curl -iX GET \"http://localhost:3000/historic/entity/urn:ngsi-ld:Buoy:001\""
   ]
  },
  {
   "cell_type": "markdown",
   "metadata": {},
   "source": [
    "#### Recuperación de los ultimos 10 datos de cada sensor de esa entidad"
   ]
  },
  {
   "cell_type": "code",
   "execution_count": null,
   "metadata": {},
   "outputs": [],
   "source": [
    "%%bash \n",
    "curl -iX GET \"http://localhost:3000/historic/entity/urn:ngsi-ld:Buoy:001?limit=10\""
   ]
  },
  {
   "cell_type": "markdown",
   "metadata": {},
   "source": [
    "#### Recuperación de los datos históricos entre dos fechas"
   ]
  },
  {
   "cell_type": "code",
   "execution_count": null,
   "metadata": {},
   "outputs": [],
   "source": [
    "%%bash\n",
    "curl -iX GET \"http://localhost:3000/historic/entity/urn:ngsi-ld:Buoy:001?startDate=2023-12-06T14:57:24.460Z&endDate=2023-12-06T14:58:27.460Z\""
   ]
  },
  {
   "cell_type": "markdown",
   "metadata": {},
   "source": [
    "### Recuperación de datos históricos de un sensor"
   ]
  },
  {
   "cell_type": "markdown",
   "metadata": {},
   "source": [
    "Indicando el ID de uno de los sensores de nuestro ORION seremos capaces de obtener los datos, pudiendo filtrar y limitar la cantidad de datos requeridos."
   ]
  },
  {
   "cell_type": "markdown",
   "metadata": {},
   "source": [
    "#### Recuperación de todos los datos históricos"
   ]
  },
  {
   "cell_type": "code",
   "execution_count": null,
   "metadata": {},
   "outputs": [],
   "source": [
    "%%bash\n",
    "curl -iX GET \"http://localhost:3000/historic/urn:ngsi-ld:OrganicMatterSensor:001\""
   ]
  },
  {
   "cell_type": "markdown",
   "metadata": {},
   "source": [
    "#### Recuperación de los ultimos 10 datos de cada sensor de ese sensor"
   ]
  },
  {
   "cell_type": "code",
   "execution_count": null,
   "metadata": {},
   "outputs": [],
   "source": [
    "%%bash\n",
    "curl -iX GET \"http://localhost:3000/historic/urn:ngsi-ld:OrganicMatterSensor:001?limit=10\""
   ]
  },
  {
   "cell_type": "markdown",
   "metadata": {},
   "source": [
    "#### Recuperación de los datos históricos entre dos fechas"
   ]
  },
  {
   "cell_type": "code",
   "execution_count": null,
   "metadata": {},
   "outputs": [],
   "source": [
    "%%bash\n",
    "curl -iX GET \"http://localhost:3000/historic/urn:ngsi-ld:OrganicMatterSensor:001?startDate=2023-12-06T14:57:24.460Z&endDate=2023-12-06T14:58:27.460Z\""
   ]
  },
  {
   "cell_type": "markdown",
   "metadata": {},
   "source": [
    "### Activar y Desactivar la actualización de las entidades al haber alguna modificación en algún sensor"
   ]
  },
  {
   "cell_type": "markdown",
   "metadata": {},
   "source": [
    "Al ocurrir algún cmabio en alguno de los sensores, una notificación es enviada a nuestro Node Express, el cual, según si activamos o no la actualización de entidades, se encargará de enviar a nuestro ORION un Patch para que actualice en la entidad asociada a ese sensor con el nuevo valor.\n",
    "\n",
    "Por defecto esta desactivada esta opción."
   ]
  },
  {
   "cell_type": "markdown",
   "metadata": {},
   "source": [
    "#### Activar actualización de entidades"
   ]
  },
  {
   "cell_type": "code",
   "execution_count": null,
   "metadata": {},
   "outputs": [],
   "source": [
    "%%bash\n",
    "curl -iX GET \"http://localhost:3000/historic/enable\""
   ]
  },
  {
   "cell_type": "markdown",
   "metadata": {},
   "source": [
    "#### Desactivar actualización de entidades"
   ]
  },
  {
   "cell_type": "code",
   "execution_count": null,
   "metadata": {},
   "outputs": [],
   "source": [
    "%%bash\n",
    "curl -iX GET \"http://localhost:3000/historic/disable\""
   ]
  }
 ],
 "metadata": {
  "kernelspec": {
   "display_name": "Python 3",
   "language": "python",
   "name": "python3"
  },
  "language_info": {
   "codemirror_mode": {
    "name": "ipython",
    "version": 3
   },
   "file_extension": ".py",
   "mimetype": "text/x-python",
   "name": "python",
   "nbconvert_exporter": "python",
   "pygments_lexer": "ipython3",
   "version": "3.11.4"
  }
 },
 "nbformat": 4,
 "nbformat_minor": 2
}
