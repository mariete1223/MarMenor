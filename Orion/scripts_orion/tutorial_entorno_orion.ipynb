{
 "cells": [
  {
   "cell_type": "markdown",
   "metadata": {},
   "source": [
    "# Explicación entorno"
   ]
  },
  {
   "cell_type": "markdown",
   "metadata": {},
   "source": [
    "## NGSI-LD"
   ]
  },
  {
   "cell_type": "markdown",
   "metadata": {},
   "source": [
    "NGSI-LD es un modelo de información y API para editar, consultar y subscribirse a información de contexto. Está destinado a facilitar el intercambio abierto y el intercambio de información estructurada entre diferentes partes interesadas. Para ello hace uso de JSON que todos conocemos añadiendole un @context en el que se proporciona información sobre la estructura y definición de los datos que contiene.\n",
    "\n",
    "Para favorecer la interoperabilidad se realizó un proyecto basado en NGSI-LD llamado **Smart Data Models** en la que nos encontramos especificaciones sobre el modelado de diversas entidades u objetos dentro de diversos ambitos, por ejemplo, en nuestro caso hemos empleado algunos de estos modelos ya predefinidos y, por tanto, estandarizados y entendibles por otros usuarios. Los modelos predefinidos empleados son:\n",
    "\n",
    "- Device: define un dispositivo y sus propiedades https://github.com/smart-data-models/dataModel.Device/tree/17f2f8a9cd1bd18c0daa80ba8b4de71deb13c3b8/Device\n",
    "- DeviceMeasurement: define una medición realizada por un dispositivo https://github.com/smart-data-models/dataModel.Device/tree/17f2f8a9cd1bd18c0daa80ba8b4de71deb13c3b8/DeviceMeasurement.\n",
    "-WaterNetwork: Define una conexión de elementos acuáticos, en este caso se ha empleado para agrupar Ramblas https://github.com/smart-data-models/dataModel.WaterDistributionManagementEPANET/tree/master/WaterNetwork\n",
    "\n",
    "Por otro lado, contamos con otras entidades en nuestro modelado, el cual es siguiente:"
   ]
  },
  {
   "cell_type": "markdown",
   "metadata": {},
   "source": [
    "![Descripción de la imagen](./esquema_orion.drawio.png)"
   ]
  },
  {
   "cell_type": "markdown",
   "metadata": {},
   "source": [
    "En este podemos ver varias entidades que no estan descritas en *Smart Data Models*, sino que las hemos definido nosotros. Antes de crear un nuevo modelo de NGSI-LD hay que:\n",
    "\n",
    "1. Buscar en Smart Data Models si el modelo que estamos buscando crear existe. https://smartdatamodels.org/index.php/ddbb-of-properties-descriptions/\n",
    "2. Buscar si existe la ontología en otras paginas que se encargan de ayudar a la interoperabilidad definiendo entidades y sus propiedades, como es el caso de https://schema.org/.\n",
    "3. Si no existe ningún punto de partida para crear nuestro modelo cogeremos los atributos basicos que podemos ver en las entidades de Smart Data Models y le añadiremos aquellos que necesitemos, siempre intentando emplear propiedades ya existentes y descritas nuevamente en *Smart Data Models*, en *Schema.org* etc. de tal forma que sean identificables a traves de una URL, como es el caso de *controlledProperty*, que la podemos encontrar descrita bajo esta URL: https://smartdatamodels.org/dataModel.Device/controlledProperty"
   ]
  },
  {
   "cell_type": "markdown",
   "metadata": {},
   "source": [
    "## Donde esta definido el esquema?"
   ]
  },
  {
   "cell_type": "markdown",
   "metadata": {},
   "source": [
    "El esquema esta definido en mi github en un repositorio publico (https://github.com/mariete1223/MarMenor), ya que el contexto debe estar accesible y referenciable a traves de una URL, en este encontramos las entidades modeladas con sus propiedades correspondientes en archivos .yaml y dentro cada uno de su propia carpeta. El contexto es generado a partir del fichero marMenor.yaml que se encarga de recopilar las distintas entidades empleadas en nuestro modelado del Mar Menor.\n",
    "\n",
    "En caso de querer añadir una nueva entidad habría que incluirla en este fichero, ya sea una existente o no existente en Smart Data Models.\n",
    "\n",
    "Para generar el contexto a partir del .yaml se ha empleado la herramienta que se nos proporciona en uno de los tutoriales de la página de FIWARE, en esta URL https://ngsi-ld-tutorials.readthedocs.io/en/latest/understanding-%40context.html\n",
    "\n",
    "Toda nueva property que se añada a cualquier .yaml tiene que tener el metadato uri-prefix que lleve al lugar en el que podemos encontrar la definición de esa propiedad o entidad"
   ]
  },
  {
   "cell_type": "markdown",
   "metadata": {},
   "source": [
    "## Como se introducen los datos "
   ]
  },
  {
   "cell_type": "markdown",
   "metadata": {},
   "source": [
    "Los datos de las mediciones de los distintos dispositivos se encuentran en ficheros .csv, que es la única información con la que contamos. Por ello toda la información estática de las entidades como la descripción, nombre, localización etcétera se han definido manualmente en diccionarios que podemos observar en el fichero donde se suben los datos , *script_start_up_new_version*. \n",
    "\n",
    "A la hora de querer incluir una nueva instancia de una entidad, como por ejemplo una Boya habría que:\n",
    "\n",
    "- Consultar si todas las propiedades medidas estan en la propiedad *controlledProperties* de *Device*, que esta definido en el archivo *marMenor.yaml*.\n",
    "- Si no esta añadirla\n",
    "- Modificar los diccionarios de *script_start_up_new_version* para añadir la información de la nueva propiedad.\n",
    "\n",
    "**En caso de tener una estructura completamente distina serán necesarias otras modificaciones, por ejemplo, en las boyas se espera que haya mediciones a distintas profundidades, con una estructura concreta en las columnas del CSV, por lo que si no se cumple habría que cambiar partes del script**\n"
   ]
  },
  {
   "cell_type": "markdown",
   "metadata": {},
   "source": [
    "## Arquitectura Docker"
   ]
  },
  {
   "cell_type": "markdown",
   "metadata": {},
   "source": [
    "La arquitectura esta formada por:\n",
    "\n",
    "**Orion Context Broker**: Guarda en formato NGSI-LD la información **actual** de las distintas entidades que tengamos.\n",
    "\n",
    "**MongoDB**: Lugar en el que se almacenan los datos del Orion Context Broker\n",
    "\n",
    "**Mintaka**: Encargado de almacenar los datos históricos. De forma automatica al cambiar las entidades del Orion Context Broker almacenará en su base de datos asociada los datos modidificados junto a un TimeStamp.\n",
    "\n",
    "**TimeScale-DB**: Base de datos de series temporales donde Mintaka almacenará los datos **historicos** de nuestras entidades.\n",
    "\n"
   ]
  },
  {
   "cell_type": "markdown",
   "metadata": {},
   "source": [
    "![Descripción de la imagen](./arquitectura.png)"
   ]
  },
  {
   "cell_type": "markdown",
   "metadata": {},
   "source": [
    "# Ejemplos de uso de el entorno conformado por Orion, Node Express y MongoDB"
   ]
  },
  {
   "cell_type": "markdown",
   "metadata": {},
   "source": [
    "Se va a mostrar algunos ejemplos de las distintas consultas disponibles en el entorno desarrollado. Estos ejemplos se realizarán haciendo uso de la herramienta CURL, para poder realizar peticiones HTTP."
   ]
  },
  {
   "cell_type": "markdown",
   "metadata": {},
   "source": [
    "## ORION\n"
   ]
  },
  {
   "cell_type": "markdown",
   "metadata": {},
   "source": [
    "En este componente encontramos los datos actuales de las distintas entidades, siguiendo el formato NGSI-LD."
   ]
  },
  {
   "cell_type": "markdown",
   "metadata": {},
   "source": [
    "En cuanto a Orion, este componente nos ofrece una gran diversidad de operaciones, consultas, filtrado etcétera. A continuación se mostrarán algunas de las operaciones empleadas para la creación del entorno basado en el Mar Menor para poder crear, modificar, recuperar y eliminar entidades, asi como, la posibilidad de realizar consultas aplicando distintos filtros, creación, modificación y eliminación de subscripciones que nos permiten monitorizar distintas entidades y atributos y poder notificar eventos relevantes, etcétera."
   ]
  },
  {
   "cell_type": "markdown",
   "metadata": {},
   "source": [
    "### Operaciones de uso frecuente"
   ]
  },
  {
   "cell_type": "markdown",
   "metadata": {},
   "source": [
    "A continuación se van a mostrar operaciones de uso frecuente en la aplicación"
   ]
  },
  {
   "cell_type": "markdown",
   "metadata": {},
   "source": [
    "#### Recuperar los DeviceMeasurement de una entidad"
   ]
  },
  {
   "cell_type": "markdown",
   "metadata": {},
   "source": [
    "Esto se realizará en varios pasos, primero obtenemos el Device asociado:"
   ]
  },
  {
   "cell_type": "code",
   "execution_count": null,
   "metadata": {},
   "outputs": [],
   "source": [
    "%%bash\n",
    "curl -iX GET 'http://localhost:1026/ngsi-ld/v1/entities/?type=Device&q=controlledAsset==%22urn:ngsi-ld:Buoy:001%22' \\\n",
    "-H 'Link: <https://raw.githubusercontent.com/mariete1223/MarMenor/main/Orion/data_models_description/datamodels.context-ngsi.jsonld>; rel=\"http://www.w3.org/ns/json-ld#context\"; type=\"application/ld+json\"' \\\n",
    "-H 'Accept: application/json'"
   ]
  },
  {
   "cell_type": "markdown",
   "metadata": {},
   "source": [
    "Luego obtenemos los Device Measurements asociados a ese dispositivo"
   ]
  },
  {
   "cell_type": "code",
   "execution_count": null,
   "metadata": {},
   "outputs": [],
   "source": [
    "%%bash\n",
    "curl -iX GET 'http://localhost:1026/ngsi-ld/v1/entities/?type=DeviceMeasurement&q=refDevice==%22urn:ngsi-ld:Device:001%22' \\\n",
    "-H 'Link: <https://raw.githubusercontent.com/mariete1223/MarMenor/main/Orion/data_models_description/datamodels.context-ngsi.jsonld>; rel=\"http://www.w3.org/ns/json-ld#context\"; type=\"application/ld+json\"' \\\n",
    "-H 'Accept: application/json'"
   ]
  },
  {
   "cell_type": "markdown",
   "metadata": {},
   "source": [
    "Podemos incluir filtros para encontrar los Device Measurements que necesitemos, por ejemplo si queremos los DeviceMeasurements de la propiedad **temperature** a una profundidad de 0 lo haríamos de la siguiente forma:"
   ]
  },
  {
   "cell_type": "code",
   "execution_count": null,
   "metadata": {},
   "outputs": [],
   "source": [
    "%%bash\n",
    "curl -iX GET 'http://localhost:1026/ngsi-ld/v1/entities/?type=DeviceMeasurement&q=refDevice==%22urn:ngsi-ld:Device:001%22;controlledProperty==%22temperature%22;depth==0' \\\n",
    "-H 'Link: <https://raw.githubusercontent.com/mariete1223/MarMenor/main/Orion/data_models_description/datamodels.context-ngsi.jsonld>; rel=\"http://www.w3.org/ns/json-ld#context\"; type=\"application/ld+json\"' \\\n",
    "-H 'Accept: application/json' "
   ]
  },
  {
   "cell_type": "markdown",
   "metadata": {},
   "source": [
    "### CRUD Entidades"
   ]
  },
  {
   "cell_type": "markdown",
   "metadata": {},
   "source": [
    "Encontramos 4 operaciones basicas:"
   ]
  },
  {
   "cell_type": "markdown",
   "metadata": {},
   "source": [
    "#### Creación"
   ]
  },
  {
   "cell_type": "markdown",
   "metadata": {},
   "source": [
    "En este apartado mostraremos la creción de un par de entidades que encontramos en el entorno del Mar Menor, Rambla(Ravine) y "
   ]
  },
  {
   "cell_type": "markdown",
   "metadata": {},
   "source": [
    "##### Creación de una Rambla"
   ]
  },
  {
   "cell_type": "code",
   "execution_count": null,
   "metadata": {},
   "outputs": [],
   "source": [
    "%%bash\n",
    "\n",
    "curl -iX POST 'http://localhost:1026/ngsi-ld/v1/entities/' \\\n",
    "-H 'Content-Type: application/ld+json' \\\n",
    "--data-raw '{\n",
    "        \"id\": f\"urn:ngsi-ld:Ravine:001\",\n",
    "        \"identifier\":{\n",
    "            \"type\": \"Property\",\n",
    "            \"value\": f\"Ravine:001\"\n",
    "        },\n",
    "        \"type\": \"Ravine\",\n",
    "        \"description\": {\n",
    "            \"type\": \"Property\",\n",
    "            \"value\": \"Río Guadalentín paretón de Totana\"\n",
    "        },\n",
    "        \"address\": {\n",
    "            \"type\": \"Property\",\n",
    "            \"value\": {\n",
    "            \"addressCountry\": \"ES\",\n",
    "            \"addressRegion\": \"Murcia\",\n",
    "            \"addressLocality\": \"Totana\",\n",
    "            \"postalCode\": \"30850\"\n",
    "            },\n",
    "            \"verified\": {\n",
    "                \"type\": \"Property\",\n",
    "                \"value\": True\n",
    "            }\n",
    "        },\n",
    "        \"source\": {\n",
    "            \"type\": \"Property\",\n",
    "            \"value\": \"https://saihweb.chsegura.es/apps/iVisor/\"\n",
    "        },\n",
    "        \"location\": {\n",
    "        \"type\": \"GeoProperty\",\n",
    "        \"value\": {\n",
    "            \"type\": \"Point\",\n",
    "            \"coordinates\": [\n",
    "                37.721387,\n",
    "                -1.495578\n",
    "            ]\n",
    "        }\n",
    "        },\n",
    "        \"name\": {\n",
    "        \"type\": \"Property\",\n",
    "        \"value\": \"Paretón Totana\"\n",
    "        },\n",
    "        \"@context\": \"https://raw.githubusercontent.com/mariete1223/MarMenor/main/Orion/data_models_description/datamodels.context-ngsi.jsonld\"\n",
    "    }'"
   ]
  },
  {
   "cell_type": "markdown",
   "metadata": {},
   "source": [
    "##### Creación de una Boya"
   ]
  },
  {
   "cell_type": "code",
   "execution_count": null,
   "metadata": {},
   "outputs": [],
   "source": [
    "%%bash\n",
    "\n",
    "curl -iX POST 'http://localhost:1026/ngsi-ld/v1/entities/' \\\n",
    "-H 'Content-Type: application/ld+json' \\\n",
    "--data-raw '{\n",
    "    \"id\": \"urn:ngsi-ld:Buoy:sea001\",\n",
    "    \"identifier\": {\n",
    "        \"type\": \"Property\",\n",
    "        \"value\": \"urn:ngsi-ld:Buoy:sea001\"\n",
    "    },\n",
    "    \"type\": \"Buoy\",\n",
    "    \"description\": {\n",
    "        \"type\": \"Property\",\n",
    "        \"value\": \"Boya del Mar Menor zona de Lo Pagan\"\n",
    "    },\n",
    "    \"address\": {\n",
    "        \"type\": \"Property\",\n",
    "        \"value\": {\n",
    "            \"addressCountry\": \"ES\",\n",
    "            \"addressRegion\": \"Murcia\",\n",
    "            \"addressLocality\": \"Murcia\",\n",
    "            \"postalCode\": \"30009\"\n",
    "        },\n",
    "        \"verified\": {\n",
    "            \"type\": \"Property\",\n",
    "            \"value\": true\n",
    "        }\n",
    "    },\n",
    "    \"source\":\n",
    "    {\n",
    "        \"type\": \"Property\",\n",
    "        \"value\": \"https://idearm.imida.es/cgi/siomctdmarmenor/\"\n",
    "    },\n",
    "    \"location\": {\n",
    "        \"type\": \"GeoProperty\",\n",
    "        \"value\": {\n",
    "             \"type\": \"Point\",\n",
    "             \"coordinates\": [37.81, -0.78]\n",
    "        }\n",
    "    },\n",
    "    \"name\": {\n",
    "        \"type\": \"Property\",\n",
    "        \"value\": \"CTD-E1\"\n",
    "    },\n",
    "    \"@context\": \"https://raw.githubusercontent.com/mariete1223/MarMenor/main/Orion/data_models_description/datamodels.context-ngsi.jsonld\"\n",
    "}'"
   ]
  },
  {
   "cell_type": "markdown",
   "metadata": {},
   "source": [
    "#### Modificación"
   ]
  },
  {
   "cell_type": "markdown",
   "metadata": {},
   "source": [
    "En este apartado mostraremos un par de operaciones basicas, que son las que han sido empleadas para modificar los datos a la hora de incluir los valores historicos."
   ]
  },
  {
   "cell_type": "markdown",
   "metadata": {},
   "source": [
    "##### Modificar el valor del campo de una entidad"
   ]
  },
  {
   "cell_type": "markdown",
   "metadata": {},
   "source": [
    "En este caso indicamos que queremos que se modifique el valor del atributo *temperature* de la entidad **TemperatureSenor** a 100, pudiendo añadirle los metadatos desados tambien, en este caso se indica que la fecha en la que se recogío ese dato fue en *2023-11-12T11:09:27.460Z*."
   ]
  },
  {
   "cell_type": "code",
   "execution_count": null,
   "metadata": {},
   "outputs": [],
   "source": [
    "%%bash\n",
    "\n",
    "curl -iX PATCH 'http://localhost:1026/ngsi-ld/v1/entities/urn:ngsi-ld:TemperatureSensor:000/attrs/temperature' \\\n",
    "-H 'Content-Type: application/json' \\\n",
    "-H 'Link: <https://raw.githubusercontent.com/mariete1223/MarMenor/main/Orion/data_models_description/datamodels.context-ngsi.jsonld>; rel=\"http://www.w3.org/ns/json-ld#context\"; type=\"application/ld+json\"' \\\n",
    "--data-raw '{\n",
    "    \"value\": 100,\n",
    "    \"observedAt\": \"2023-11-12T11:09:27.460Z\"\n",
    "}'"
   ]
  },
  {
   "cell_type": "markdown",
   "metadata": {},
   "source": [
    "##### Modificar multiples campos de una entidad simultaneamente"
   ]
  },
  {
   "cell_type": "markdown",
   "metadata": {},
   "source": [
    "En este caso modificamos dos atributos, temperatura y el objecto que controla el sensor"
   ]
  },
  {
   "cell_type": "code",
   "execution_count": null,
   "metadata": {},
   "outputs": [],
   "source": [
    "%%bash\n",
    "\n",
    "curl -iX PATCH 'http://localhost:1026/ngsi-ld/v1/entities/urn:ngsi-ld:TemperatureSensor:001/attrs' \\\n",
    "-H 'Content-Type: application/json' \\\n",
    "-H 'Link: <https://raw.githubusercontent.com/mariete1223/MarMenor/main/Orion/data_models_description/datamodels.context-ngsi.jsonld>; rel=\"http://www.w3.org/ns/json-ld#context\"; type=\"application/ld+json\"' \\\n",
    "--data-raw '{\n",
    "      \"temperature\": {\n",
    "            \"value\": 100,\n",
    "            \"observedAt\": \"2023-11-12T11:09:27.460Z\"\n",
    "       },\n",
    "      \"controlledAsset\": {\n",
    "            \"type\": \"Relationship\",\n",
    "            \"object\": \"urn:ngsi-ld:Ravine:001\"\n",
    "      }\n",
    "}'"
   ]
  },
  {
   "cell_type": "markdown",
   "metadata": {},
   "source": [
    "#### Recuperar"
   ]
  },
  {
   "cell_type": "markdown",
   "metadata": {},
   "source": [
    "En este apartado se mostrará la forma de recuperar las distintas entidades que encontramos en Orion, tanto una unica entidad como todas ellas, atributos concretos, etcétera."
   ]
  },
  {
   "cell_type": "markdown",
   "metadata": {},
   "source": [
    "##### Recuperar todas las boyas"
   ]
  },
  {
   "cell_type": "code",
   "execution_count": null,
   "metadata": {},
   "outputs": [],
   "source": [
    "%%bash\n",
    "curl -G -X GET \\\n",
    "  'http://localhost:1026/ngsi-ld/v1/entities' \\\n",
    "  -H 'Accept: application/ld+json' \\\n",
    "  -d 'type=https://raw.githubusercontent.com/mariete1223/MarMenor/main/Orion/Buoy/buoy.yaml%23/Buoy'"
   ]
  },
  {
   "cell_type": "markdown",
   "metadata": {},
   "source": [
    "##### Recuperar todas las ramblas"
   ]
  },
  {
   "cell_type": "code",
   "execution_count": null,
   "metadata": {},
   "outputs": [],
   "source": [
    "%%bash\n",
    "curl -G -X GET   'http://localhost:1026/ngsi-ld/v1/entities'   \\\n",
    " -H 'Accept: application/ld+json'   \\\n",
    " -d 'type=https://raw.githubusercontent.com/mariete1223/MarMenor/main/Orion/Ravine/ravine.yaml%23/Ravine'"
   ]
  },
  {
   "cell_type": "markdown",
   "metadata": {},
   "source": [
    "##### Recuperar todas los sondeos piezometricos"
   ]
  },
  {
   "cell_type": "code",
   "execution_count": null,
   "metadata": {},
   "outputs": [],
   "source": [
    "%%bash\n",
    "curl -G -X GET \\\n",
    "  'http://localhost:1026/ngsi-ld/v1/entities' \\\n",
    "  -H 'Accept: application/ld+json' \\\n",
    "  -H 'Link: <https://raw.githubusercontent.com/mariete1223/MarMenor/main/Orion/data_models_description/datamodels.context-ngsi.jsonld>; rel=\"http://www.w3.org/ns/json-ld#context\"; type=\"application/ld+json\"' \\\n",
    "  -H 'Accept: application/json' \\\n",
    "  -d 'type=SoundingPlace'"
   ]
  },
  {
   "cell_type": "markdown",
   "metadata": {},
   "source": [
    "##### Recuperar una entidad por su identificador"
   ]
  },
  {
   "cell_type": "code",
   "execution_count": null,
   "metadata": {},
   "outputs": [],
   "source": [
    "%%bash\n",
    "curl -G -iX GET 'http://localhost:1026/ngsi-ld/v1/entities/urn:ngsi-ld:Ravine:009' -H 'Accept: application/ld+json'"
   ]
  },
  {
   "cell_type": "markdown",
   "metadata": {},
   "source": [
    "##### Recuperar un atributo de una entidad (temperatura en este caso)"
   ]
  },
  {
   "cell_type": "code",
   "execution_count": 2,
   "metadata": {},
   "outputs": [
    {
     "name": "stderr",
     "output_type": "stream",
     "text": [
      "<3>WSL (22) ERROR: CreateProcessParseCommon:711: Failed to translate c:\\Users\\marie\\OneDrive\\Escritorio\\Antiguo ordenador\\Universidad\\Master 1º\\TFM\\NGSI-LD\\examples\n",
      "<3>WSL (22) ERROR: CreateProcessParseCommon:757: getpwuid(0) failed 2\n",
      "<3>WSL (22) ERROR: UtilTranslatePathList:2866: Failed to translate c:\\Users\\marie\\AppData\\Local\\Programs\\Python\\Python311\n",
      "<3>WSL (22) ERROR: UtilTranslatePathList:2866: Failed to translate c:\\Users\\marie\\AppData\\Roaming\\Python\\Python311\\Scripts\n",
      "<3>WSL (22) ERROR: UtilTranslatePathList:2866: Failed to translate C:\\Windows\\system32\n",
      "<3>WSL (22) ERROR: UtilTranslatePathList:2866: Failed to translate C:\\Windows\n",
      "<3>WSL (22) ERROR: UtilTranslatePathList:2866: Failed to translate C:\\Windows\\System32\\Wbem\n",
      "<3>WSL (22) ERROR: UtilTranslatePathList:2866: Failed to translate C:\\Windows\\System32\\WindowsPowerShell\\v1.0\\\n",
      "<3>WSL (22) ERROR: UtilTranslatePathList:2866: Failed to translate C:\\Windows\\System32\\OpenSSH\\\n",
      "<3>WSL (22) ERROR: UtilTranslatePathList:2866: Failed to translate C:\\Program Files (x86)\\NVIDIA Corporation\\PhysX\\Common\n",
      "<3>WSL (22) ERROR: UtilTranslatePathList:2866: Failed to translate C:\\Program Files\\NVIDIA Corporation\\NVIDIA NvDLISR\n",
      "<3>WSL (22) ERROR: UtilTranslatePathList:2866: Failed to translate C:\\Program Files\\Microsoft VS Code\\bin\n",
      "<3>WSL (22) ERROR: UtilTranslatePathList:2866: Failed to translate C:\\Program Files\\Git\\cmd\n",
      "<3>WSL (22) ERROR: UtilTranslatePathList:2866: Failed to translate C:\\Program Files\\nodejs\\\n",
      "<3>WSL (22) ERROR: UtilTranslatePathList:2866: Failed to translate C:\\Program Files\\Docker\\Docker\\resources\\bin\n",
      "<3>WSL (22) ERROR: UtilTranslatePathList:2866: Failed to translate C:\\Program Files\\dotnet\\\n",
      "<3>WSL (22) ERROR: UtilTranslatePathList:2866: Failed to translate C:\\Users\\marie\\AppData\\Local\\Programs\\Python\\Python311\\Scripts\n",
      "<3>WSL (22) ERROR: UtilTranslatePathList:2866: Failed to translate C:\\Users\\marie\\AppData\\Local\\Microsoft\\WindowsApps\n",
      "<3>WSL (22) ERROR: UtilTranslatePathList:2866: Failed to translate C:\\SDK\\flutter\\bin\n",
      "<3>WSL (22) ERROR: UtilTranslatePathList:2866: Failed to translate C:\\ProgramData\\marie\\GitHubDesktop\\bin\n",
      "<3>WSL (22) ERROR: UtilTranslatePathList:2866: Failed to translate C:\\Users\\marie\\AppData\\Roaming\\npm\n",
      "<3>WSL (22) ERROR: UtilTranslatePathList:2866: Failed to translate C:\\Aplicaciones\\apache-maven-3.9.4\\bin\n",
      "<3>WSL (22) ERROR: UtilTranslatePathList:2866: Failed to translate C:\\Users\\marie\\OneDrive\\Escritorio\\grafana-enterprise-10.3.1.windows-amd64\\grafana-v10.3.1\\bin\n",
      "<3>WSL (22) ERROR: UtilTranslatePathList:2866: Failed to translate C:\\Windows\\system32\n",
      "<3>WSL (22) ERROR: UtilTranslatePathList:2866: Failed to translate C:\\Windows\n",
      "<3>WSL (22) ERROR: UtilTranslatePathList:2866: Failed to translate C:\\Windows\\System32\\Wbem\n",
      "<3>WSL (22) ERROR: UtilTranslatePathList:2866: Failed to translate C:\\Windows\\System32\\WindowsPowerShell\\v1.0\\\n",
      "<3>WSL (22) ERROR: UtilTranslatePathList:2866: Failed to translate C:\\Windows\\System32\\OpenSSH\\\n",
      "<3>WSL (22) ERROR: UtilTranslatePathList:2866: Failed to translate C:\\Program Files (x86)\\NVIDIA Corporation\\PhysX\\Common\n",
      "<3>WSL (22) ERROR: UtilTranslatePathList:2866: Failed to translate C:\\Program Files\\NVIDIA Corporation\\NVIDIA NvDLISR\n",
      "<3>WSL (22) ERROR: UtilTranslatePathList:2866: Failed to translate C:\\Program Files\\Microsoft VS Code\\bin\n",
      "<3>WSL (22) ERROR: UtilTranslatePathList:2866: Failed to translate C:\\Program Files\\Git\\cmd\n",
      "<3>WSL (22) ERROR: UtilTranslatePathList:2866: Failed to translate C:\\Program Files\\nodejs\\\n",
      "<3>WSL (22) ERROR: UtilTranslatePathList:2866: Failed to translate C:\\Program Files\\Docker\\Docker\\resources\\bin\n",
      "<3>WSL (22) ERROR: UtilTranslatePathList:2866: Failed to translate C:\\Program Files\\dotnet\\\n",
      "<3>WSL (22) ERROR: UtilTranslatePathList:2866: Failed to translate C:\\Users\\marie\\AppData\\Local\\Programs\\Python\\Python311\\Scripts\n",
      "<3>WSL (22) ERROR: UtilTranslatePathList:2866: Failed to translate C:\\Users\\marie\\AppData\\Local\\Microsoft\\WindowsApps\n",
      "<3>WSL (22) ERROR: UtilTranslatePathList:2866: Failed to translate C:\\SDK\\flutter\\bin\n",
      "<3>WSL (22) ERROR: UtilTranslatePathList:2866: Failed to translate C:\\ProgramData\\marie\\GitHubDesktop\\bin\n",
      "<3>WSL (22) ERROR: UtilTranslatePathList:2866: Failed to translate C:\\Users\\marie\\AppData\\Roaming\\npm\n",
      "<3>WSL (22) ERROR: UtilTranslatePathList:2866: Failed to translate C:\\Aplicaciones\\apache-maven-3.9.4\\bin\n",
      "<3>WSL (22) ERROR: UtilTranslatePathList:2866: Failed to translate C:\\Users\\marie\\OneDrive\\Escritorio\\grafana-enterprise-10.3.1.windows-amd64\\grafana-v10.3.1\\bin\n",
      "<3>WSL (22) ERROR: CreateProcessEntryCommon:334: getpwuid(0) failed 2\n",
      "<3>WSL (22) ERROR: CreateProcessEntryCommon:505: execvpe /bin/bash failed 2\n",
      "<3>WSL (22) ERROR: CreateProcessEntryCommon:508: Create process not expected to return\n"
     ]
    },
    {
     "ename": "CalledProcessError",
     "evalue": "Command 'b'curl -G -iX GET \\'http://localhost:1026/ngsi-ld/v1/entities/urn:ngsi-ld:Ravine:012\\' \\\\\\n-H \\'Link: <https://raw.githubusercontent.com/mariete1223/MarMenor/main/data_models_description/datamodels.context-ngsi.jsonld>; rel=\"http://www.w3.org/ns/json-ld#context\"; type=\"application/ld+json\"\\' \\\\\\n-d \\'attrs=temperature\\'\\n'' returned non-zero exit status 1.",
     "output_type": "error",
     "traceback": [
      "\u001b[1;31m---------------------------------------------------------------------------\u001b[0m",
      "\u001b[1;31mCalledProcessError\u001b[0m                        Traceback (most recent call last)",
      "\u001b[1;32mc:\\Users\\marie\\OneDrive\\Escritorio\\Antiguo ordenador\\Universidad\\Master 1º\\TFM\\NGSI-LD\\examples\\tutorial.ipynb Cell 54\u001b[0m line \u001b[0;36m1\n\u001b[1;32m----> <a href='vscode-notebook-cell:/c%3A/Users/marie/OneDrive/Escritorio/Antiguo%20ordenador/Universidad/Master%201%C2%BA/TFM/NGSI-LD/examples/tutorial.ipynb#Y104sZmlsZQ%3D%3D?line=0'>1</a>\u001b[0m get_ipython()\u001b[39m.\u001b[39;49mrun_cell_magic(\u001b[39m'\u001b[39;49m\u001b[39mbash\u001b[39;49m\u001b[39m'\u001b[39;49m, \u001b[39m'\u001b[39;49m\u001b[39m'\u001b[39;49m, \u001b[39m'\u001b[39;49m\u001b[39mcurl -G -iX GET \u001b[39;49m\u001b[39m\\'\u001b[39;49;00m\u001b[39mhttp://localhost:1026/ngsi-ld/v1/entities/urn:ngsi-ld:Ravine:012\u001b[39;49m\u001b[39m\\'\u001b[39;49;00m\u001b[39m \u001b[39;49m\u001b[39m\\\\\u001b[39;49;00m\u001b[39m\\n\u001b[39;49;00m\u001b[39m-H \u001b[39;49m\u001b[39m\\'\u001b[39;49;00m\u001b[39mLink: <https://raw.githubusercontent.com/mariete1223/MarMenor/main/data_models_description/datamodels.context-ngsi.jsonld>; rel=\u001b[39;49m\u001b[39m\"\u001b[39;49m\u001b[39mhttp://www.w3.org/ns/json-ld#context\u001b[39;49m\u001b[39m\"\u001b[39;49m\u001b[39m; type=\u001b[39;49m\u001b[39m\"\u001b[39;49m\u001b[39mapplication/ld+json\u001b[39;49m\u001b[39m\"\u001b[39;49m\u001b[39m\\'\u001b[39;49;00m\u001b[39m \u001b[39;49m\u001b[39m\\\\\u001b[39;49;00m\u001b[39m\\n\u001b[39;49;00m\u001b[39m-d \u001b[39;49m\u001b[39m\\'\u001b[39;49;00m\u001b[39mattrs=temperature\u001b[39;49m\u001b[39m\\'\u001b[39;49;00m\u001b[39m\\n\u001b[39;49;00m\u001b[39m'\u001b[39;49m)\n",
      "File \u001b[1;32m~\\AppData\\Roaming\\Python\\Python311\\site-packages\\IPython\\core\\interactiveshell.py:2493\u001b[0m, in \u001b[0;36mInteractiveShell.run_cell_magic\u001b[1;34m(self, magic_name, line, cell)\u001b[0m\n\u001b[0;32m   2491\u001b[0m \u001b[39mwith\u001b[39;00m \u001b[39mself\u001b[39m\u001b[39m.\u001b[39mbuiltin_trap:\n\u001b[0;32m   2492\u001b[0m     args \u001b[39m=\u001b[39m (magic_arg_s, cell)\n\u001b[1;32m-> 2493\u001b[0m     result \u001b[39m=\u001b[39m fn(\u001b[39m*\u001b[39;49margs, \u001b[39m*\u001b[39;49m\u001b[39m*\u001b[39;49mkwargs)\n\u001b[0;32m   2495\u001b[0m \u001b[39m# The code below prevents the output from being displayed\u001b[39;00m\n\u001b[0;32m   2496\u001b[0m \u001b[39m# when using magics with decorator @output_can_be_silenced\u001b[39;00m\n\u001b[0;32m   2497\u001b[0m \u001b[39m# when the last Python token in the expression is a ';'.\u001b[39;00m\n\u001b[0;32m   2498\u001b[0m \u001b[39mif\u001b[39;00m \u001b[39mgetattr\u001b[39m(fn, magic\u001b[39m.\u001b[39mMAGIC_OUTPUT_CAN_BE_SILENCED, \u001b[39mFalse\u001b[39;00m):\n",
      "File \u001b[1;32m~\\AppData\\Roaming\\Python\\Python311\\site-packages\\IPython\\core\\magics\\script.py:154\u001b[0m, in \u001b[0;36mScriptMagics._make_script_magic.<locals>.named_script_magic\u001b[1;34m(line, cell)\u001b[0m\n\u001b[0;32m    152\u001b[0m \u001b[39melse\u001b[39;00m:\n\u001b[0;32m    153\u001b[0m     line \u001b[39m=\u001b[39m script\n\u001b[1;32m--> 154\u001b[0m \u001b[39mreturn\u001b[39;00m \u001b[39mself\u001b[39;49m\u001b[39m.\u001b[39;49mshebang(line, cell)\n",
      "File \u001b[1;32m~\\AppData\\Roaming\\Python\\Python311\\site-packages\\IPython\\core\\magics\\script.py:314\u001b[0m, in \u001b[0;36mScriptMagics.shebang\u001b[1;34m(self, line, cell)\u001b[0m\n\u001b[0;32m    309\u001b[0m \u001b[39mif\u001b[39;00m args\u001b[39m.\u001b[39mraise_error \u001b[39mand\u001b[39;00m p\u001b[39m.\u001b[39mreturncode \u001b[39m!=\u001b[39m \u001b[39m0\u001b[39m:\n\u001b[0;32m    310\u001b[0m     \u001b[39m# If we get here and p.returncode is still None, we must have\u001b[39;00m\n\u001b[0;32m    311\u001b[0m     \u001b[39m# killed it but not yet seen its return code. We don't wait for it,\u001b[39;00m\n\u001b[0;32m    312\u001b[0m     \u001b[39m# in case it's stuck in uninterruptible sleep. -9 = SIGKILL\u001b[39;00m\n\u001b[0;32m    313\u001b[0m     rc \u001b[39m=\u001b[39m p\u001b[39m.\u001b[39mreturncode \u001b[39mor\u001b[39;00m \u001b[39m-\u001b[39m\u001b[39m9\u001b[39m\n\u001b[1;32m--> 314\u001b[0m     \u001b[39mraise\u001b[39;00m CalledProcessError(rc, cell)\n",
      "\u001b[1;31mCalledProcessError\u001b[0m: Command 'b'curl -G -iX GET \\'http://localhost:1026/ngsi-ld/v1/entities/urn:ngsi-ld:Ravine:012\\' \\\\\\n-H \\'Link: <https://raw.githubusercontent.com/mariete1223/MarMenor/main/data_models_description/datamodels.context-ngsi.jsonld>; rel=\"http://www.w3.org/ns/json-ld#context\"; type=\"application/ld+json\"\\' \\\\\\n-d \\'attrs=temperature\\'\\n'' returned non-zero exit status 1."
     ]
    }
   ],
   "source": [
    "%%bash\n",
    "curl -G -iX GET 'http://localhost:1026/ngsi-ld/v1/entities/urn:ngsi-ld:DeviceMeasurement:001' \\\n",
    "-H 'Link: <https://raw.githubusercontent.com/mariete1223/MarMenor/main/Orion/data_models_description/datamodels.context-ngsi.jsonld>; rel=\"http://www.w3.org/ns/json-ld#context\"; type=\"application/ld+json\"' \\\n",
    "-d 'attrs=numValue'"
   ]
  },
  {
   "cell_type": "markdown",
   "metadata": {},
   "source": [
    "##### Recuperar varios atributos de una entidad "
   ]
  },
  {
   "cell_type": "code",
   "execution_count": null,
   "metadata": {},
   "outputs": [],
   "source": [
    "%%bash\n",
    "curl -G -iX GET 'http://localhost:1026/ngsi-ld/v1/entities/urn:ngsi-ld:DeviceMeasurement:001' \\\n",
    "-H 'Link: <https://raw.githubusercontent.com/mariete1223/MarMenor/main/Orion/data_models_description/datamodels.context-ngsi.jsonld>; rel=\"http://www.w3.org/ns/json-ld#context\"; type=\"application/ld+json\"' \\\n",
    "-d 'attrs=numValue,name'"
   ]
  },
  {
   "cell_type": "markdown",
   "metadata": {},
   "source": [
    "##### Realizar busquedas a traves de coordenadas geográficas"
   ]
  },
  {
   "cell_type": "code",
   "execution_count": null,
   "metadata": {},
   "outputs": [],
   "source": [
    "%%bash\n",
    "curl -G -X GET \\\n",
    "  'http://localhost:1026/ngsi-ld/v1/entities' \\\n",
    "  -H 'Link: <https://raw.githubusercontent.com/mariete1223/MarMenor/main/Orion/data_models_description/datamodels.context-ngsi.jsonld>; rel=\"http://www.w3.org/ns/json-ld#context\"; type=\"application/ld+json\"' \\\n",
    "  -H 'Accept: application/json' \\\n",
    "  -d 'geometry=Point' \\\n",
    "  -d 'coordinates=%5B37.7544,-0.8586%5D' \\\n",
    "  -d 'georel=near%3BmaxDistance==5000' \\\n",
    "  -d 'options=keyValues'"
   ]
  },
  {
   "cell_type": "markdown",
   "metadata": {},
   "source": [
    "##### Realizar filtro por algun campo"
   ]
  },
  {
   "cell_type": "code",
   "execution_count": null,
   "metadata": {},
   "outputs": [],
   "source": [
    "%%bash\n",
    "curl -G -iX GET 'http://localhost:1026/ngsi-ld/v1/entities/' \\\n",
    "-H 'Link: <https://raw.githubusercontent.com/mariete1223/MarMenor/main/Orion/data_models_description/datamodels.context-ngsi.jsonld>; rel=\"http://www.w3.org/ns/json-ld#context\"; type=\"application/ld+json\"' \\\n",
    "-H 'Accept: application/json' \\\n",
    "-d 'id=urn:ngsi-ld:TemperatureSensor:001,urn:ngsi-ld:TemperatureSensor:002' "
   ]
  },
  {
   "cell_type": "markdown",
   "metadata": {},
   "source": [
    "##### Formas de recuperar los datos"
   ]
  },
  {
   "cell_type": "markdown",
   "metadata": {},
   "source": [
    "Hay varias formas de recuperar los datos:\n",
    "\n",
    "* Verbose: nos proporciona todos los metadatos a parte de los valores (por defecto)\n",
    "* KeyValue: nos proporciona solo clave valore, suprimiendo los metadatos"
   ]
  },
  {
   "cell_type": "markdown",
   "metadata": {},
   "source": [
    "Como Verbose es por defecto, mostraremos como se haría con **KeyValue**:"
   ]
  },
  {
   "cell_type": "code",
   "execution_count": null,
   "metadata": {},
   "outputs": [],
   "source": [
    "%%bash\n",
    "curl -G -iX GET 'http://localhost:1026/ngsi-ld/v1/entities/urn:ngsi-ld:Ravine:012' \\\n",
    "    -H 'Accept: application/ld+json' \\\n",
    "    -H 'Link: <https://raw.githubusercontent.com/mariete1223/MarMenor/main/Orion/data_models_description/datamodels.context-ngsi.jsonld>; rel=\"http://www.w3.org/ns/json-ld#context\"; type=\"application/ld+json\"' \\\n",
    "    -d 'options=keyValues'"
   ]
  },
  {
   "cell_type": "markdown",
   "metadata": {},
   "source": [
    "#### Eliminar"
   ]
  },
  {
   "cell_type": "markdown",
   "metadata": {},
   "source": [
    "En este apratado mostraremos un par de ejemplos para eliminar entidades existentes"
   ]
  },
  {
   "cell_type": "markdown",
   "metadata": {},
   "source": [
    "##### Eliminar un sensor"
   ]
  },
  {
   "cell_type": "code",
   "execution_count": null,
   "metadata": {},
   "outputs": [],
   "source": [
    "%%bash\n",
    "curl -iX DELETE 'http://localhost:1026/ngsi-ld/v1/entities/urn:ngsi-ld:TemperatureSensor:004'"
   ]
  },
  {
   "cell_type": "markdown",
   "metadata": {},
   "source": [
    "##### Eliminar una rambla"
   ]
  },
  {
   "cell_type": "code",
   "execution_count": null,
   "metadata": {},
   "outputs": [],
   "source": [
    "%%bash\n",
    "curl -iX DELETE 'http://localhost:1026/ngsi-ld/v1/entities/urn:ngsi-ld:Ravine:004'"
   ]
  },
  {
   "cell_type": "markdown",
   "metadata": {},
   "source": [
    "### CRUD Subscripciones"
   ]
  },
  {
   "cell_type": "markdown",
   "metadata": {},
   "source": [
    "Las subscripciones son un mecanismo de gran utilidad que nos permite enviar notificaciones a un endpoint definido por nosotros para indicar la ocurrencia de algun evento que requiere supervisión o una acción como consecuencia. "
   ]
  },
  {
   "cell_type": "markdown",
   "metadata": {},
   "source": [
    "#### Creación"
   ]
  },
  {
   "cell_type": "markdown",
   "metadata": {},
   "source": [
    "Vamos a mostrar algún ejemplo de creación de subscripciones indicando su gran versatilidad"
   ]
  },
  {
   "cell_type": "markdown",
   "metadata": {},
   "source": [
    "##### Creación de una subscripción para monitorizar cambios de temperatura"
   ]
  },
  {
   "cell_type": "markdown",
   "metadata": {},
   "source": [
    "En este caso hemos creado una subscripcion con lo siguiente:\n",
    "\n",
    "* El atributo a observar (*watchedAttributes*) es la temperatura\n",
    "* Se esta monitorizando la entidades de tipo *Ravine*\n",
    "* Para enviar la notificación debe haber cambiado la temperatura a un valor entre 10 y 100\n",
    "* Los datos de la entidad que queremos enviar son: *temperature*\n",
    "* El endpoint al que queremos notificar el evento es a *http://node-app:3000/historic* (Nuestro node express)"
   ]
  },
  {
   "cell_type": "code",
   "execution_count": null,
   "metadata": {},
   "outputs": [],
   "source": [
    "%%bash\n",
    "\n",
    "curl -L -X POST 'http://localhost:1026/ngsi-ld/v1/subscriptions/' \\\n",
    "-H 'Content-Type: application/ld+json' \\\n",
    "--data-raw '{\n",
    "  \"description\": \"Una prueba de notificacion, ante un cambio de temperatura\",\n",
    "  \"type\": \"Subscription\",\n",
    "  \"entities\": [{\"type\": \"Ravine\"}],\n",
    "  \"watchedAttributes\": [\"temperature\"],\n",
    "  \"q\": \"temperature>10;temperature<100\",\n",
    "  \"notification\": {\n",
    "    \"attributes\": [\"temperature\"],\n",
    "    \"format\": \"normalized\",\n",
    "    \"endpoint\": {\n",
    "      \"uri\": \"http://node-app:3000/historic/a\",\n",
    "      \"accept\": \"application/json\"\n",
    "    }\n",
    "  },\n",
    "   \"@context\": \"https://raw.githubusercontent.com/mariete1223/MarMenor/main/Orion/data_models_description/datamodels.context-ngsi.jsonld\"\n",
    "}'"
   ]
  },
  {
   "cell_type": "markdown",
   "metadata": {},
   "source": [
    "##### Creación de una subscripción mas restrictiva"
   ]
  },
  {
   "cell_type": "markdown",
   "metadata": {},
   "source": [
    "En este caso, estamos creando una subscripción para un Sensor en especifico, restringiendolo a traves de el filtro *q*, en el que hemos indicado que sea la entidad que concuerde con un atributo source concreto y que la propiedad que este controlando sea la temperatura.\n",
    "\n",
    "Ademas, hemos indicado que queremos enviar mas atributos que los monitorizados a nuestro endpoin."
   ]
  },
  {
   "cell_type": "code",
   "execution_count": null,
   "metadata": {},
   "outputs": [],
   "source": [
    "%%bash\n",
    "curl -L -X POST 'http://localhost:1026/ngsi-ld/v1/subscriptions/' \\\n",
    "-H 'Content-Type: application/ld+json' \\\n",
    "--data-raw '{\n",
    "    \"description\": \"Subscription to get info about urn:ngsi-ld:PiezometricPoint:000 sensor\", \n",
    "    \"type\": \"Subscription\", \"entities\": [{\"type\": \"TemperatureSensor\"}], \n",
    "    \"watchedAttributes\": [\"temperature\"], \n",
    "    \"q\": \"source==%22https://saihweb.chsegura.es/apps/iVisor/visor_variable.php?punto=06Z01E10%22;controlledProperty==%22temperature%22\",\n",
    "    \"notification\": {\n",
    "        \"attributes\": [\"temperature\", \"controlledAsset\", \"measureType\"], \n",
    "        \"format\": \"normalized\", \n",
    "        \"endpoint\": {\"uri\": \"http://node-app:3000/historic/urn:ngsi-ld:TemperatureSensor:000\", \n",
    "        \"accept\": \"application/json\"\n",
    "        }\n",
    "    }, \n",
    "    \"@context\": \"https://raw.githubusercontent.com/mariete1223/MarMenor/main/Orion/data_models_description/datamodels.context-ngsi.jsonld\"\n",
    "}'"
   ]
  },
  {
   "cell_type": "markdown",
   "metadata": {},
   "source": [
    "#### Eliminación"
   ]
  },
  {
   "cell_type": "code",
   "execution_count": null,
   "metadata": {},
   "outputs": [],
   "source": [
    "%%bash\n",
    "curl -X DELETE \\\n",
    "  --url 'http://localhost:1026/ngsi-ld/v1/subscriptions/urn:ngsi-ld:Subscription:5fd228838b9b83697b855a72'"
   ]
  },
  {
   "cell_type": "markdown",
   "metadata": {},
   "source": [
    "#### Recuperación"
   ]
  },
  {
   "cell_type": "markdown",
   "metadata": {},
   "source": [
    "##### Recuperación de todas las subscripciones"
   ]
  },
  {
   "cell_type": "code",
   "execution_count": null,
   "metadata": {},
   "outputs": [],
   "source": [
    "%%bash\n",
    "curl -X GET \\\n",
    "  --url 'http://localhost:1026/ngsi-ld/v1/subscriptions/"
   ]
  },
  {
   "cell_type": "markdown",
   "metadata": {},
   "source": [
    "##### Recuperación de una subscripcion"
   ]
  },
  {
   "cell_type": "code",
   "execution_count": null,
   "metadata": {},
   "outputs": [],
   "source": [
    "%%bash\n",
    "curl -X GET \\\n",
    "  --url 'http://localhost:1026/ngsi-ld/v1/subscriptions/urn:ngsi-ld:Subscription:5fd228838b9b83697b855a72'"
   ]
  },
  {
   "cell_type": "markdown",
   "metadata": {},
   "source": [
    "## MINTAKA y TIMESCALE-DB\n"
   ]
  },
  {
   "cell_type": "markdown",
   "metadata": {},
   "source": [
    "Se ha sustituido el MongoDB por un componente ya desarrollado y que cuenta con integración con ORION y NGSI-LD que nos proporciona una forma eficiente de almacenamiento de una base de datos temporal."
   ]
  },
  {
   "cell_type": "markdown",
   "metadata": {},
   "source": [
    "Nos ofrece las siguientes funcionalidades:"
   ]
  },
  {
   "cell_type": "markdown",
   "metadata": {},
   "source": [
    "### Recuperación de datos históricos de una entidad"
   ]
  },
  {
   "cell_type": "markdown",
   "metadata": {},
   "source": [
    "Indicando el ID de una de las entidades de nuestro ORION seremos capaces de obtener los datos, pudiendo filtrar y limitar la cantidad de datos requeridos."
   ]
  },
  {
   "cell_type": "markdown",
   "metadata": {},
   "source": [
    "#### Recuperación de los ultimos 10 datos de una entidad"
   ]
  },
  {
   "cell_type": "markdown",
   "metadata": {},
   "source": [
    "%%bash\n",
    "\n",
    "curl -G -X GET 'http://localhost:8080/temporal/entities/urn:ngsi-ld:DeviceMeasurement:070' \\\n",
    "-H 'Link: <https://raw.githubusercontent.com/mariete1223/MarMenor/main/Orion/data_models_description/datamodels.context-ngsi.jsonld>; rel=\"http://www.w3.org/ns/json-ld#context\"; \\ type=\"application/ld+json\"' \\\n",
    "-d 'lastN=10' "
   ]
  },
  {
   "cell_type": "markdown",
   "metadata": {},
   "source": [
    "Salida obtenida"
   ]
  },
  {
   "cell_type": "code",
   "execution_count": null,
   "metadata": {},
   "outputs": [],
   "source": [
    "{\n",
    "    \"id\": \"urn:ngsi-ld:DeviceMeasurement:070\",\n",
    "    \"type\": \"DeviceMeasurement\",\n",
    "    \"numValue\": [\n",
    "        {\n",
    "            \"type\": \"Property\",\n",
    "            \"value\": 7.27,\n",
    "            \"observedAt\": \"2023-08-24T00:00:00Z\",\n",
    "            \"instanceId\": \"urn:ngsi-ld:attribute:instance:f9c862d0-d9ae-11ee-aebc-0242ac120105\",\n",
    "            \"unitCode\": \"microseconds/cm\"\n",
    "        },\n",
    "        {\n",
    "            \"type\": \"Property\",\n",
    "            \"value\": 7.29,\n",
    "            \"observedAt\": \"2023-08-17T00:00:00Z\",\n",
    "            \"instanceId\": \"urn:ngsi-ld:attribute:e6f74014-5e7b-49fe-ae20-f78eba618fc8\",\n",
    "            \"unitCode\": \"microseconds/cm\"\n",
    "        },\n",
    "        {\n",
    "            \"type\": \"Property\",\n",
    "            \"value\": 7.12,\n",
    "            \"observedAt\": \"2023-08-10T00:00:00Z\",\n",
    "            \"instanceId\": \"urn:ngsi-ld:attribute:1af80b77-e25c-444e-a23c-9ecce6c08ed8\",\n",
    "            \"unitCode\": \"microseconds/cm\"\n",
    "        },\n",
    "        {\n",
    "            \"type\": \"Property\",\n",
    "            \"value\": 7.27,\n",
    "            \"observedAt\": \"2023-08-01T00:00:00Z\",\n",
    "            \"instanceId\": \"urn:ngsi-ld:attribute:a9c91ce0-f755-4c3b-9b84-f77a3c8cc683\",\n",
    "            \"unitCode\": \"microseconds/cm\"\n",
    "        },\n",
    "        {\n",
    "            \"type\": \"Property\",\n",
    "            \"value\": 7.17,\n",
    "            \"observedAt\": \"2023-07-26T00:00:00Z\",\n",
    "            \"instanceId\": \"urn:ngsi-ld:attribute:1721ab98-4a79-4dcb-bec1-ea440ef9c3ca\",\n",
    "            \"unitCode\": \"microseconds/cm\"\n",
    "        },\n",
    "        {\n",
    "            \"type\": \"Property\",\n",
    "            \"value\": 7.22,\n",
    "            \"observedAt\": \"2023-07-19T00:00:00Z\",\n",
    "            \"instanceId\": \"urn:ngsi-ld:attribute:60bf81de-7b58-4cbc-83a1-8074fa3c9d97\",\n",
    "            \"unitCode\": \"microseconds/cm\"\n",
    "        },\n",
    "        {\n",
    "            \"type\": \"Property\",\n",
    "            \"value\": 7.16,\n",
    "            \"observedAt\": \"2023-07-12T00:00:00Z\",\n",
    "            \"instanceId\": \"urn:ngsi-ld:attribute:cdade3bb-2182-45b7-91a3-72150b61a6b2\",\n",
    "            \"unitCode\": \"microseconds/cm\"\n",
    "        },\n",
    "        {\n",
    "            \"type\": \"Property\",\n",
    "            \"value\": 7.01,\n",
    "            \"observedAt\": \"2023-07-05T00:00:00Z\",\n",
    "            \"instanceId\": \"urn:ngsi-ld:attribute:ebee4a55-e096-49ad-9c91-cc007dec656b\",\n",
    "            \"unitCode\": \"microseconds/cm\"\n",
    "        },\n",
    "        {\n",
    "            \"type\": \"Property\",\n",
    "            \"value\": 6.85,\n",
    "            \"observedAt\": \"2023-06-28T00:00:00Z\",\n",
    "            \"instanceId\": \"urn:ngsi-ld:attribute:faf8500d-8063-4b5a-b332-f844672c8c16\",\n",
    "            \"unitCode\": \"microseconds/cm\"\n",
    "        },\n",
    "        {\n",
    "            \"type\": \"Property\",\n",
    "            \"value\": 6.65,\n",
    "            \"observedAt\": \"2023-06-21T00:00:00Z\",\n",
    "            \"instanceId\": \"urn:ngsi-ld:attribute:b96ee704-67c3-43b4-a450-c34eab9724db\",\n",
    "            \"unitCode\": \"microseconds/cm\"\n",
    "        }\n",
    "    ]\n",
    "}"
   ]
  },
  {
   "cell_type": "markdown",
   "metadata": {},
   "source": [
    "#### Recuperación en un formato simplificado"
   ]
  },
  {
   "cell_type": "code",
   "execution_count": null,
   "metadata": {},
   "outputs": [],
   "source": [
    "%%bash\n",
    "\n",
    "curl -G -X GET 'http://localhost:8080/temporal/entities/urn:ngsi-ld:DeviceMeasurement:070' \\\n",
    "-H 'Link: <https://raw.githubusercontent.com/mariete1223/MarMenor/main/Orion/data_models_description/datamodels.context-ngsi.jsonld>; rel=\"http://www.w3.org/ns/json-ld#context\"; \\ type=\"application/ld+json\"' \\\n",
    "-d 'lastN=10' \\\n",
    "-d 'options=temporalValues'"
   ]
  },
  {
   "cell_type": "markdown",
   "metadata": {},
   "source": [
    "Resultado obtenido"
   ]
  },
  {
   "cell_type": "code",
   "execution_count": null,
   "metadata": {},
   "outputs": [],
   "source": [
    "{\n",
    "    \"id\": \"urn:ngsi-ld:DeviceMeasurement:070\",\n",
    "    \"type\": \"DeviceMeasurement\",\n",
    "    \"numValue\": {\n",
    "        \"type\": \"Property\",\n",
    "        \"values\": [\n",
    "            [\n",
    "                7.27,\n",
    "                \"2023-08-24T00:00:00Z\"\n",
    "            ],\n",
    "            [\n",
    "                7.29,\n",
    "                \"2023-08-17T00:00:00Z\"\n",
    "            ],\n",
    "            [\n",
    "                7.12,\n",
    "                \"2023-08-10T00:00:00Z\"\n",
    "            ],\n",
    "            [\n",
    "                7.27,\n",
    "                \"2023-08-01T00:00:00Z\"\n",
    "            ],\n",
    "            [\n",
    "                7.17,\n",
    "                \"2023-07-26T00:00:00Z\"\n",
    "            ],\n",
    "            [\n",
    "                7.22,\n",
    "                \"2023-07-19T00:00:00Z\"\n",
    "            ],\n",
    "            [\n",
    "                7.16,\n",
    "                \"2023-07-12T00:00:00Z\"\n",
    "            ],\n",
    "            [\n",
    "                7.01,\n",
    "                \"2023-07-05T00:00:00Z\"\n",
    "            ],\n",
    "            [\n",
    "                6.85,\n",
    "                \"2023-06-28T00:00:00Z\"\n",
    "            ],\n",
    "            [\n",
    "                6.65,\n",
    "                \"2023-06-21T00:00:00Z\"\n",
    "            ]\n",
    "        ]\n",
    "    }\n",
    "}"
   ]
  },
  {
   "cell_type": "markdown",
   "metadata": {},
   "source": [
    "#### Recuperación de los N datos historicos antes o despues de una fecha"
   ]
  },
  {
   "cell_type": "code",
   "execution_count": null,
   "metadata": {},
   "outputs": [],
   "source": [
    "%%bash\n",
    "curl -G -X GET 'http://localhost:8080/temporal/entities/urn:ngsi-ld:DeviceMeasurement:070' \\\n",
    "-H 'Link: <https://raw.githubusercontent.com/mariete1223/MarMenor/main/Orion/data_models_description/datamodels.context-ngsi.jsonld>; rel=\"http://www.w3.org/ns/json-ld#context\"; \\ type=\"application/ld+json\"' \\\n",
    "-d 'lastN=10' \\\n",
    "-d 'timerel=before' \\\n",
    "-d 'timeAt=2023-06-21T00:00:00Z'"
   ]
  },
  {
   "cell_type": "code",
   "execution_count": null,
   "metadata": {},
   "outputs": [],
   "source": [
    "%%bash\n",
    "curl -G -X GET 'http://localhost:8080/temporal/entities/urn:ngsi-ld:DeviceMeasurement:070' \\\n",
    "-H 'Link: <https://raw.githubusercontent.com/mariete1223/MarMenor/main/Orion/data_models_description/datamodels.context-ngsi.jsonld>; rel=\"http://www.w3.org/ns/json-ld#context\"; \\ type=\"application/ld+json\"' \\\n",
    "-d 'lastN=10' \\\n",
    "-d 'timerel=after' \\\n",
    "-d 'timeAt=2023-06-21T00:00:00Z'"
   ]
  },
  {
   "cell_type": "markdown",
   "metadata": {},
   "source": [
    "#### Recuperación de los datos entre dos fechas"
   ]
  },
  {
   "cell_type": "code",
   "execution_count": null,
   "metadata": {},
   "outputs": [],
   "source": [
    "%%bash\n",
    "curl -G -X GET 'http://localhost:8080/temporal/entities/urn:ngsi-ld:DeviceMeasurement:070' \\\n",
    "-H 'Link: <https://raw.githubusercontent.com/mariete1223/MarMenor/main/Orion/data_models_description/datamodels.context-ngsi.jsonld>; rel=\"http://www.w3.org/ns/json-ld#context\"; \\ type=\"application/ld+json\"' \\\n",
    "-d 'lastN=10' \\\n",
    "-d 'timerel=between' \\\n",
    "-d 'timeAt=2023-06-21T00:00:00Z' \\\n",
    "-d 'endTimeAt=2024-03-08T10:57:56Z'"
   ]
  },
  {
   "cell_type": "code",
   "execution_count": null,
   "metadata": {},
   "outputs": [],
   "source": [
    "%%bash\n",
    "curl -i -G -X GET 'http://localhost:8080/temporal/entities/urn:ngsi-ld:DeviceMeasurement:000' \\\n",
    "-H 'Link: <https://raw.githubusercontent.com/mariete1223/MarMenor/main/Orion/data_models_description/datamodels.context-ngsi.jsonld>; rel=\"http://www.w3.org/ns/json-ld#context\"; \\ type=\"application/ld+json\"' \\\n",
    "-d 'timerel=between' \\\n",
    "-d 'timeAt=2019-07-11T00:00Z' \\\n",
    "-d 'endTimeAt=2024-03-08T10:57:56Z'"
   ]
  }
 ],
 "metadata": {
  "kernelspec": {
   "display_name": "Python 3",
   "language": "python",
   "name": "python3"
  },
  "language_info": {
   "codemirror_mode": {
    "name": "ipython",
    "version": 3
   },
   "file_extension": ".py",
   "mimetype": "text/x-python",
   "name": "python",
   "nbconvert_exporter": "python",
   "pygments_lexer": "ipython3",
   "version": "3.11.4"
  }
 },
 "nbformat": 4,
 "nbformat_minor": 2
}
